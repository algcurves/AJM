{
  "nbformat": 4,
  "nbformat_minor": 0,
  "metadata": {
    "kernelspec": {
      "display_name": "Python 3",
      "language": "python",
      "name": "python3"
    },
    "language_info": {
      "codemirror_mode": {
        "name": "ipython",
        "version": 3
      },
      "file_extension": ".py",
      "mimetype": "text/x-python",
      "name": "python",
      "nbconvert_exporter": "python",
      "pygments_lexer": "ipython3",
      "version": "3.8.8"
    },
    "colab": {
      "provenance": [],
      "include_colab_link": true
    }
  },
  "cells": [
    {
      "cell_type": "markdown",
      "metadata": {
        "id": "view-in-github",
        "colab_type": "text"
      },
      "source": [
        "<a href=\"https://colab.research.google.com/github/algcurves/AJM/blob/master/2_kNN.ipynb\" target=\"_parent\"><img src=\"https://colab.research.google.com/assets/colab-badge.svg\" alt=\"Open In Colab\"/></a>"
      ]
    },
    {
      "cell_type": "markdown",
      "metadata": {
        "tags": [
          "pdf-title"
        ],
        "id": "TLMBKtnSaUA-"
      },
      "source": [
        "# k-Nearest Neighbor (kNN) classifier\n",
        "\n",
        "The kNN classifier consists of two stages:\n",
        "\n",
        "- During training, the classifier takes the training data and simply remembers it\n",
        "- During testing, kNN classifies every test image by comparing to all training images and transfering the labels of the k most similar training examples\n",
        "\n",
        "In this exercise you will implement these steps and understand the basic Image Classification pipeline, and gain proficiency in writing efficient code."
      ]
    },
    {
      "cell_type": "code",
      "metadata": {
        "tags": [
          "pdf-ignore"
        ],
        "id": "fexJqmDRaUBB",
        "colab": {
          "base_uri": "https://localhost:8080/"
        },
        "outputId": "fea106db-ceff-410f-dec5-d2fb30d708db"
      },
      "source": [
        "# Run some setup code for this notebook.\n",
        "import random\n",
        "import numpy as np\n",
        "import matplotlib.pyplot as plt\n",
        "\n",
        "import tensorflow as tf # install tensorflow if you work on your own computer instead of colab\n",
        "\n",
        "# This is a bit of magic to make matplotlib figures appear inline in the notebook\n",
        "# rather than in a new window.\n",
        "%matplotlib inline\n",
        "plt.rcParams['figure.figsize'] = (10.0, 8.0) # set default size of plots\n",
        "plt.rcParams['image.interpolation'] = 'nearest'\n",
        "plt.rcParams['image.cmap'] = 'gray'\n",
        "\n",
        "# Some more magic so that the notebook will reload external python modules;\n",
        "# see http://stackoverflow.com/questions/1907993/autoreload-of-modules-in-ipython\n",
        "%load_ext autoreload\n",
        "%autoreload 2"
      ],
      "execution_count": 137,
      "outputs": [
        {
          "output_type": "stream",
          "name": "stdout",
          "text": [
            "The autoreload extension is already loaded. To reload it, use:\n",
            "  %reload_ext autoreload\n"
          ]
        }
      ]
    },
    {
      "cell_type": "code",
      "metadata": {
        "tags": [
          "pdf-ignore"
        ],
        "id": "6Q8KrH_QaUBC",
        "colab": {
          "base_uri": "https://localhost:8080/"
        },
        "outputId": "da7c2058-8f86-4bcb-b9ce-46edb998355f"
      },
      "source": [
        "# Load the raw MNIST data.\n",
        "\n",
        "(X_train, y_train), (X_test, y_test) = tf.keras.datasets.mnist.load_data()\n",
        "\n",
        "# As a sanity check, we print out the size of the training and test data.\n",
        "print('Training data shape: ', X_train.shape)\n",
        "print('Training labels shape: ', y_train.shape)\n",
        "print('Test data shape: ', X_test.shape)\n",
        "print('Test labels shape: ', y_test.shape)"
      ],
      "execution_count": 138,
      "outputs": [
        {
          "output_type": "stream",
          "name": "stdout",
          "text": [
            "Training data shape:  (60000, 28, 28)\n",
            "Training labels shape:  (60000,)\n",
            "Test data shape:  (10000, 28, 28)\n",
            "Test labels shape:  (10000,)\n"
          ]
        }
      ]
    },
    {
      "cell_type": "code",
      "metadata": {
        "tags": [
          "pdf-ignore"
        ],
        "id": "1h0sUnfGaUBC",
        "colab": {
          "base_uri": "https://localhost:8080/",
          "height": 634
        },
        "outputId": "30aa71aa-d7c3-4309-b509-f136d0508778"
      },
      "source": [
        "# Visualize some examples from the dataset.\n",
        "# We show a few examples of training images from each class.\n",
        "classes = range(10)\n",
        "num_classes = len(classes)\n",
        "samples_per_class = 5\n",
        "for y, cls in enumerate(classes):\n",
        "    idxs = np.flatnonzero(y_train == y)\n",
        "    idxs = np.random.choice(idxs, samples_per_class, replace=False)\n",
        "    for i, idx in enumerate(idxs):\n",
        "        plt_idx = i * num_classes + y + 1\n",
        "        plt.subplot(samples_per_class, num_classes, plt_idx)\n",
        "        plt.imshow(X_train[idx].astype('uint8'))\n",
        "        plt.axis('off')\n",
        "        if i == 0:\n",
        "            plt.title(cls)\n",
        "plt.show()"
      ],
      "execution_count": 139,
      "outputs": [
        {
          "output_type": "display_data",
          "data": {
            "text/plain": [
              "<Figure size 1000x800 with 50 Axes>"
            ],
            "image/png": "[encoded data removed]"
          },
          "metadata": {}
        }
      ]
    },
    {
      "cell_type": "code",
      "metadata": {
        "tags": [
          "pdf-ignore"
        ],
        "id": "vSBrpwTvaUBD",
        "colab": {
          "base_uri": "https://localhost:8080/"
        },
        "outputId": "6c302223-b813-4672-a715-0bc5cf262946"
      },
      "source": [
        "# Subsample the data for more efficient code execution in this exercise\n",
        "num_training = 500\n",
        "mask = list(range(num_training))\n",
        "X_train = X_train[mask]\n",
        "y_train = y_train[mask]\n",
        "\n",
        "num_test = 100\n",
        "mask = list(range(num_test))\n",
        "X_test = X_test[mask]\n",
        "y_test = y_test[mask]\n",
        "\n",
        "# Reshape the image data into rows\n",
        "X_train = np.reshape(X_train, (X_train.shape[0], -1)).astype('float32')\n",
        "X_test = np.reshape(X_test, (X_test.shape[0], -1)).astype('float32')\n",
        "print(X_train.shape, X_test.shape)"
      ],
      "execution_count": 140,
      "outputs": [
        {
          "output_type": "stream",
          "name": "stdout",
          "text": [
            "(500, 784) (100, 784)\n"
          ]
        }
      ]
    },
    {
      "cell_type": "markdown",
      "metadata": {
        "id": "mGNaBdzwaUBD"
      },
      "source": [
        "# What you need to implement is here"
      ]
    },
    {
      "cell_type": "code",
      "metadata": {
        "id": "K7t19BKKaUBD"
      },
      "source": [
        "class KNearestNeighbor(object):\n",
        "    \"\"\" a kNN classifier with L2 distance (i.e., Euclidean distance) \"\"\"\n",
        "\n",
        "    def __init__(self):\n",
        "        pass\n",
        "\n",
        "    def train(self, X, y):\n",
        "        \"\"\"\n",
        "        Train the classifier. For k-nearest neighbors this is just\n",
        "        memorizing the training data.\n",
        "\n",
        "        Inputs:\n",
        "        - X: A numpy array of shape (num_train, D) containing the training data\n",
        "          consisting of num_train samples each of dimension D.\n",
        "        - y: A numpy array of shape (N,) containing the training labels, where\n",
        "             y[i] is the label for X[i].\n",
        "        \"\"\"\n",
        "        self.X_train = X\n",
        "        self.y_train = y\n",
        "\n",
        "    def compute_distances(self, X):\n",
        "        \"\"\"\n",
        "        Compute the distance between each test point in X and each training point\n",
        "        in self.X_train.\n",
        "\n",
        "        Inputs:\n",
        "        - X: A numpy array of shape (num_test, D) containing test data.\n",
        "\n",
        "        Returns:\n",
        "        - dists: A numpy array of shape (num_test, num_train) where dists[i, j]\n",
        "          is the Euclidean distance (L2 distance) between the ith test point and the jth training\n",
        "          point.\n",
        "        \"\"\"\n",
        "        num_test = X.shape[0]\n",
        "        num_train = self.X_train.shape[0]\n",
        "        dists = np.zeros((num_test, num_train))\n",
        "        #########################################################################\n",
        "        # TODO:                                                                 #\n",
        "        # Compute the l2 distance between all test points and all training      #\n",
        "        # points without using any explicit loops, and store the result in      #\n",
        "        # dists.                                                                #\n",
        "        #                                                                       #\n",
        "        # You can implement this function using only basic array operations.    #\n",
        "        # HINT: Try to formulate the l2 distance using matrix multiplication    #\n",
        "        #       and two broadcast sums.                                         #\n",
        "        #                                                                       #\n",
        "        # Or you can use functions from numpy such as np.linalg.norm()          #\n",
        "        #                                                                       #\n",
        "        #########################################################################\n",
        "        ## 20 points ##\n",
        "        # *****START OF YOUR CODE (DO NOT DELETE/MODIFY THIS LINE)*****\n",
        "\n",
        "        #X = X[:, np.newaxis, :]\n",
        "        #for i in range(num_test):\n",
        "        #  for j in range(num_train):\n",
        "        #     dists[i][j]=np.linalg.norm(X[i]- self[j], axis=-1)\n",
        "        #dists=np.linalg.norm(X- self, ord==2)\n",
        "\n",
        "\n",
        "        dot_product = np.dot(X, self)\n",
        "        X_sum_squares = np.sum(X**2, axis=1, keepdims=True)\n",
        "        self_sum_squares = np.sum(self**2, axis=1)\n",
        "        squared_dist = X_sum_squares - 2*dot_product + self_sum_squares\n",
        "        dists = np.sqrt(squared_dist)\n",
        "\n",
        "\n",
        "        # *****END OF YOUR CODE (DO NOT DELETE/MODIFY THIS LINE)*****\n",
        "        return dists\n",
        "\n",
        "    def predict_labels(self, dists, k=1):\n",
        "        \"\"\"\n",
        "        Given a matrix of distances between test points and training points,\n",
        "        predict a label for each test point.\n",
        "\n",
        "        Inputs:\n",
        "        - dists: A numpy array of shape (num_test, num_train) where dists[i, j]\n",
        "          gives the distance betwen the ith test point and the jth training point.\n",
        "\n",
        "        Returns:\n",
        "        - y: A numpy array of shape (num_test,) containing predicted labels for the\n",
        "          test data, where y[i] is the predicted label for the test point X[i].\n",
        "        \"\"\"\n",
        "        num_test = dists.shape[0]\n",
        "        y_pred = np.zeros(num_test)\n",
        "        for i in range(num_test):\n",
        "            # A list of length k storing the labels of the k nearest neighbors to\n",
        "            # the ith test point.\n",
        "            closest_y = []\n",
        "            #########################################################################\n",
        "            # TODO:                                                                 #\n",
        "            # Use the distance matrix to find the k nearest neighbors of the ith    #\n",
        "            # testing point, and use self.y_train to find the labels of these       #\n",
        "            # neighbors. Store these labels in closest_y.                           #\n",
        "            # Hint: Look up the function numpy.argsort.                             #\n",
        "            #########################################################################\n",
        "            ## 10 points ##\n",
        "            # *****START OF YOUR CODE (DO NOT DELETE/MODIFY THIS LINE)*****\n",
        "\n",
        "            arr=np.argsort(dists[i])\n",
        "            closest_y=np.flatnonzero(arr < k)\n",
        "\n",
        "            # *****END OF YOUR CODE (DO NOT DELETE/MODIFY THIS LINE)*****\n",
        "            #########################################################################\n",
        "            # TODO:                                                                 #\n",
        "            # Now that you have found the labels of the k nearest neighbors, you    #\n",
        "            # need to find the most common label in the list closest_y of labels.   #\n",
        "            # Store this label in y_pred[i]. Break ties by choosing the smaller     #\n",
        "            # label.                                                                #\n",
        "            #########################################################################\n",
        "            ## 10 points ##\n",
        "            # *****START OF YOUR CODE (DO NOT DELETE/MODIFY THIS LINE)*****\n",
        "\n",
        "            y_pred=np.argmax(closest_y)\n",
        "\n",
        "\n",
        "            # *****END OF YOUR CODE (DO NOT DELETE/MODIFY THIS LINE)*****\n",
        "\n",
        "        return y_pred\n",
        "\n",
        "    def predict(self, X, k=1):\n",
        "        \"\"\"\n",
        "        Predict labels for test data using this classifier.\n",
        "\n",
        "        Inputs:\n",
        "        - X: A numpy array of shape (num_test, D) containing test data consisting\n",
        "             of num_test samples each of dimension D.\n",
        "        - k: The number of nearest neighbors that vote for the predicted labels.\n",
        "\n",
        "        Returns:\n",
        "        - y: A numpy array of shape (num_test,) containing predicted labels for the\n",
        "          test data, where y[i] is the predicted label for the test point X[i].\n",
        "        \"\"\"\n",
        "        dists = self.compute_distances(X)\n",
        "\n",
        "        return self.predict_labels(dists, k=k)"
      ],
      "execution_count": 160,
      "outputs": []
    },
    {
      "cell_type": "code",
      "metadata": {
        "tags": [
          "pdf-ignore"
        ],
        "id": "REuvVVJLaUBF"
      },
      "source": [
        "# Create a kNN classifier instance.\n",
        "# Remember that training a kNN classifier is a noop:\n",
        "# the Classifier simply remembers the data and does no further processing\n",
        "classifier = KNearestNeighbor()\n",
        "classifier.train(X_train, y_train)"
      ],
      "execution_count": 161,
      "outputs": []
    },
    {
      "cell_type": "markdown",
      "metadata": {
        "id": "n82YuXkhaUBF"
      },
      "source": [
        "We would now like to classify the test data with the kNN classifier. Recall that we can break down this process into two steps:\n",
        "\n",
        "1. First we must compute the distances between all test examples and all train examples.\n",
        "2. Given these distances, for each test example we find the k nearest examples and have them vote for the label\n",
        "\n",
        "Lets begin with computing the distance matrix between all training and test examples. For example, if there are **Ntr** training examples and **Nte** test examples, this stage should result in a **Nte x Ntr** matrix where each element (i,j) is the distance between the i-th test and j-th train example."
      ]
    },
    {
      "cell_type": "code",
      "metadata": {
        "id": "eqjFO6jUaUBG",
        "colab": {
          "base_uri": "https://localhost:8080/",
          "height": 308
        },
        "outputId": "41244c5e-18db-4e2d-e086-1f7c9a564911"
      },
      "source": [
        "# implement compute_distances\n",
        "\n",
        "# Test your implementation:\n",
        "dists = classifier.compute_distances(X_test)\n",
        "print(dists.shape)\n",
        "# We can visualize the distance matrix: each row is a single test example and its distances to training examples\n",
        "plt.imshow(dists, interpolation='none')\n",
        "plt.show()"
      ],
      "execution_count": 162,
      "outputs": [
        {
          "output_type": "error",
          "ename": "TypeError",
          "evalue": "ignored",
          "traceback": [
            "\u001b[0;31m---------------------------------------------------------------------------\u001b[0m",
            "\u001b[0;31mTypeError\u001b[0m                                 Traceback (most recent call last)",
            "\u001b[0;32m<ipython-input-162-e2d61a80b9a4>\u001b[0m in \u001b[0;36m<cell line: 4>\u001b[0;34m()\u001b[0m\n\u001b[1;32m      2\u001b[0m \u001b[0;34m\u001b[0m\u001b[0m\n\u001b[1;32m      3\u001b[0m \u001b[0;31m# Test your implementation:\u001b[0m\u001b[0;34m\u001b[0m\u001b[0;34m\u001b[0m\u001b[0m\n\u001b[0;32m----> 4\u001b[0;31m \u001b[0mdists\u001b[0m \u001b[0;34m=\u001b[0m \u001b[0mclassifier\u001b[0m\u001b[0;34m.\u001b[0m\u001b[0mcompute_distances\u001b[0m\u001b[0;34m(\u001b[0m\u001b[0mX_test\u001b[0m\u001b[0;34m)\u001b[0m\u001b[0;34m\u001b[0m\u001b[0;34m\u001b[0m\u001b[0m\n\u001b[0m\u001b[1;32m      5\u001b[0m \u001b[0mprint\u001b[0m\u001b[0;34m(\u001b[0m\u001b[0mdists\u001b[0m\u001b[0;34m.\u001b[0m\u001b[0mshape\u001b[0m\u001b[0;34m)\u001b[0m\u001b[0;34m\u001b[0m\u001b[0;34m\u001b[0m\u001b[0m\n\u001b[1;32m      6\u001b[0m \u001b[0;31m# We can visualize the distance matrix: each row is a single test example and its distances to training examples\u001b[0m\u001b[0;34m\u001b[0m\u001b[0;34m\u001b[0m\u001b[0m\n",
            "\u001b[0;32m<ipython-input-160-99cde39062be>\u001b[0m in \u001b[0;36mcompute_distances\u001b[0;34m(self, X)\u001b[0m\n\u001b[1;32m     58\u001b[0m \u001b[0;34m\u001b[0m\u001b[0m\n\u001b[1;32m     59\u001b[0m \u001b[0;34m\u001b[0m\u001b[0m\n\u001b[0;32m---> 60\u001b[0;31m         \u001b[0mdot_product\u001b[0m \u001b[0;34m=\u001b[0m \u001b[0mnp\u001b[0m\u001b[0;34m.\u001b[0m\u001b[0mdot\u001b[0m\u001b[0;34m(\u001b[0m\u001b[0mX\u001b[0m\u001b[0;34m,\u001b[0m \u001b[0mself\u001b[0m\u001b[0;34m)\u001b[0m\u001b[0;34m\u001b[0m\u001b[0;34m\u001b[0m\u001b[0m\n\u001b[0m\u001b[1;32m     61\u001b[0m         \u001b[0mX_sum_squares\u001b[0m \u001b[0;34m=\u001b[0m \u001b[0mnp\u001b[0m\u001b[0;34m.\u001b[0m\u001b[0msum\u001b[0m\u001b[0;34m(\u001b[0m\u001b[0mX\u001b[0m\u001b[0;34m**\u001b[0m\u001b[0;36m2\u001b[0m\u001b[0;34m,\u001b[0m \u001b[0maxis\u001b[0m\u001b[0;34m=\u001b[0m\u001b[0;36m1\u001b[0m\u001b[0;34m,\u001b[0m \u001b[0mkeepdims\u001b[0m\u001b[0;34m=\u001b[0m\u001b[0;32mTrue\u001b[0m\u001b[0;34m)\u001b[0m\u001b[0;34m\u001b[0m\u001b[0;34m\u001b[0m\u001b[0m\n\u001b[1;32m     62\u001b[0m         \u001b[0mself_sum_squares\u001b[0m \u001b[0;34m=\u001b[0m \u001b[0mnp\u001b[0m\u001b[0;34m.\u001b[0m\u001b[0msum\u001b[0m\u001b[0;34m(\u001b[0m\u001b[0mself\u001b[0m\u001b[0;34m**\u001b[0m\u001b[0;36m2\u001b[0m\u001b[0;34m,\u001b[0m \u001b[0maxis\u001b[0m\u001b[0;34m=\u001b[0m\u001b[0;36m1\u001b[0m\u001b[0;34m)\u001b[0m\u001b[0;34m\u001b[0m\u001b[0;34m\u001b[0m\u001b[0m\n",
            "\u001b[0;32m/usr/local/lib/python3.10/dist-packages/numpy/core/overrides.py\u001b[0m in \u001b[0;36mdot\u001b[0;34m(*args, **kwargs)\u001b[0m\n",
            "\u001b[0;31mTypeError\u001b[0m: unsupported operand type(s) for *: 'float' and 'KNearestNeighbor'"
          ]
        }
      ]
    },
    {
      "cell_type": "code",
      "metadata": {
        "id": "L3C45QbbaUBG",
        "colab": {
          "base_uri": "https://localhost:8080/"
        },
        "outputId": "84138533-ef0c-49fb-bd40-4f82b496394e"
      },
      "source": [
        "# Now implement the function predict_labels and run the code below:\n",
        "\n",
        "# We use k = 1 (which is Nearest Neighbor).\n",
        "y_test_pred = classifier.predict_labels(dists, k=1)\n",
        "\n",
        "# Compute and print the fraction of correctly predicted examples\n",
        "num_correct = np.sum(y_test_pred == y_test)\n",
        "accuracy = float(num_correct) / num_test\n",
        "print(f'Got {num_correct} / {num_test} correct => accuracy: {accuracy*100:.0f}%')"
      ],
      "execution_count": 163,
      "outputs": [
        {
          "output_type": "stream",
          "name": "stdout",
          "text": [
            "Got 8 / 100 correct => accuracy: 8%\n"
          ]
        }
      ]
    },
    {
      "cell_type": "markdown",
      "metadata": {
        "id": "w3cN3CUYaUBG"
      },
      "source": [
        "You should expect to see `85%` accuracy. Now lets try out a larger `k`, say `k = 2`:"
      ]
    },
    {
      "cell_type": "code",
      "metadata": {
        "id": "hjmvhZVTaUBH",
        "colab": {
          "base_uri": "https://localhost:8080/"
        },
        "outputId": "9cd56ac8-4cd4-4cfe-caf4-9eeee559d6b5"
      },
      "source": [
        "y_test_pred = classifier.predict_labels(dists, k=2)\n",
        "num_correct = np.sum(y_test_pred == y_test)\n",
        "accuracy = float(num_correct) / num_test\n",
        "print(f'Got {num_correct} / {num_test} correct => accuracy: {accuracy*100:.0f}%')"
      ],
      "execution_count": 166,
      "outputs": [
        {
          "output_type": "stream",
          "name": "stdout",
          "text": [
            "Got 14 / 100 correct => accuracy: 14%\n"
          ]
        }
      ]
    },
    {
      "cell_type": "markdown",
      "metadata": {
        "id": "scMskXebaUBH"
      },
      "source": [
        "You should expect to see a slightly worse performance than with `k = 1` for this small dataset. You can try other k and calculate the prediction accuracy."
      ]
    },
    {
      "cell_type": "code",
      "source": [
        "def compute_l2_distance(test_points, training_points):\n",
        "    # Calculate the dot product between test points and training points\n",
        "    dot_product = np.dot(test_points, training_points.T)\n",
        "\n",
        "    # Sum of squares of test points and training points\n",
        "    test_sum_squares = np.sum(test_points**2, axis=1, keepdims=True)\n",
        "    training_sum_squares = np.sum(training_points**2, axis=1)\n",
        "\n",
        "    # Calculate the squared L2 distance\n",
        "    squared_dist = test_sum_squares - 2 * dot_product + training_sum_squares\n",
        "\n",
        "    # Take the square root to get the L2 distance\n",
        "    dists = np.sqrt(squared_dist)\n",
        "\n",
        "    return dists\n",
        "\n",
        "# Example usage:\n",
        "X = np.array([[1, 2], [3, 4], [5, 6]])\n",
        "self = np.array([[2, 2], [4, 4]])\n",
        "\n",
        "dists = compute_l2_distance(X, self)\n",
        "print(dists)"
      ],
      "metadata": {
        "colab": {
          "base_uri": "https://localhost:8080/"
        },
        "id": "OmFMnFeZbSSA",
        "outputId": "85e93976-7e2d-4884-bb6c-c39694cc7eb5"
      },
      "execution_count": 156,
      "outputs": [
        {
          "output_type": "stream",
          "name": "stdout",
          "text": [
            "[[1.         3.60555128]\n",
            " [2.23606798 1.        ]\n",
            " [5.         2.23606798]]\n"
          ]
        }
      ]
    },
    {
      "cell_type": "code",
      "source": [
        "seq=[1,3,0,-5, 17]\n",
        "print(seq)\n",
        "b=np.argsort(seq)\n",
        "print(b)\n",
        "seq2=filter(lambda x: x < 3, b)\n",
        "print(seq2)"
      ],
      "metadata": {
        "colab": {
          "base_uri": "https://localhost:8080/"
        },
        "id": "jCbTokGSdkl5",
        "outputId": "853f3f17-7efd-4a36-910f-cc353556712e"
      },
      "execution_count": 159,
      "outputs": [
        {
          "output_type": "stream",
          "name": "stdout",
          "text": [
            "[1, 3, 0, -5, 17]\n",
            "[3 2 0 1 4]\n",
            "<filter object at 0x7d6a82762320>\n"
          ]
        }
      ]
    }
  ]
}